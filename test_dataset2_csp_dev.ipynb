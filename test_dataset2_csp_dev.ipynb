{
 "cells": [
  {
   "cell_type": "code",
   "execution_count": 1,
   "metadata": {},
   "outputs": [],
   "source": [
    "import numpy as np\n",
    "from pyriemann.spatialfilters import CSP\n",
    "from pyriemann.estimation import Covariances as Cov\n",
    "from sklearn.discriminant_analysis import LinearDiscriminantAnalysis as LDA\n",
    "from sklearn.pipeline import make_pipeline\n",
    "from sklearn.model_selection import StratifiedKFold, cross_validate\n",
    "from scipy.signal import butter, filtfilt\n",
    "from loaddata import Dataset_Left_Right_MI"
   ]
  },
  {
   "cell_type": "code",
   "execution_count": 2,
   "metadata": {},
   "outputs": [],
   "source": [
    "# butterworth bandpass filter\n",
    "def butter_bandpass_filter(data, lowcut, highcut, fs, order=5):   \n",
    "    nyq = 0.5 * fs\n",
    "    low = lowcut / nyq\n",
    "    high = highcut / nyq\n",
    "    b, a = butter(order, [low, high], btype='band')\n",
    "    data_filtered = filtfilt(b, a, data) # zero-phase filter\n",
    "    return data_filtered"
   ]
  },
  {
   "cell_type": "code",
   "execution_count": 6,
   "metadata": {},
   "outputs": [
    {
     "name": "stdout",
     "output_type": "stream",
     "text": [
      "S1 CSP accuracy: 0.475 +/- 0.087\n",
      "S2 CSP accuracy: 0.590 +/- 0.153\n",
      "S3 CSP accuracy: 0.870 +/- 0.135\n",
      "S4 CSP accuracy: 0.410 +/- 0.073\n",
      "S5 CSP accuracy: 0.530 +/- 0.119\n",
      "S6 CSP accuracy: 0.770 +/- 0.093\n",
      "S7 CSP accuracy: 0.595 +/- 0.091\n",
      "S8 CSP accuracy: 0.415 +/- 0.103\n",
      "S9 CSP accuracy: 0.580 +/- 0.142\n",
      "S10 CSP accuracy: 0.505 +/- 0.108\n",
      "S11 CSP accuracy: 0.425 +/- 0.112\n",
      "S12 CSP accuracy: 0.610 +/- 0.153\n",
      "S13 CSP accuracy: 0.450 +/- 0.116\n",
      "S14 CSP accuracy: 0.495 +/- 0.144\n",
      "S15 CSP accuracy: 0.465 +/- 0.123\n",
      "S16 CSP accuracy: 0.560 +/- 0.083\n",
      "S17 CSP accuracy: 0.400 +/- 0.112\n",
      "S18 CSP accuracy: 0.715 +/- 0.125\n",
      "S19 CSP accuracy: 0.635 +/- 0.114\n",
      "S20 CSP accuracy: 0.530 +/- 0.075\n",
      "S21 CSP accuracy: 0.975 +/- 0.040\n",
      "S22 CSP accuracy: 0.610 +/- 0.094\n",
      "S23 CSP accuracy: 0.565 +/- 0.090\n",
      "S24 CSP accuracy: 0.635 +/- 0.090\n",
      "S25 CSP accuracy: 0.725 +/- 0.105\n",
      "S26 CSP accuracy: 0.545 +/- 0.129\n",
      "S27 CSP accuracy: 0.480 +/- 0.081\n",
      "S28 CSP accuracy: 0.715 +/- 0.125\n",
      "S29 CSP accuracy: 0.845 +/- 0.035\n",
      "S30 CSP accuracy: 0.535 +/- 0.087\n",
      "S31 CSP accuracy: 0.580 +/- 0.158\n",
      "S32 CSP accuracy: 0.920 +/- 0.071\n",
      "S33 CSP accuracy: 0.505 +/- 0.101\n",
      "S34 CSP accuracy: 0.495 +/- 0.079\n",
      "S35 CSP accuracy: 0.685 +/- 0.112\n",
      "S36 CSP accuracy: 0.970 +/- 0.024\n",
      "S37 CSP accuracy: 0.805 +/- 0.088\n",
      "S38 CSP accuracy: 0.515 +/- 0.107\n",
      "S39 CSP accuracy: 0.455 +/- 0.106\n",
      "S40 CSP accuracy: 0.505 +/- 0.099\n",
      "S41 CSP accuracy: 0.460 +/- 0.134\n",
      "S42 CSP accuracy: 0.605 +/- 0.185\n",
      "S43 CSP accuracy: 0.625 +/- 0.096\n",
      "S44 CSP accuracy: 0.910 +/- 0.049\n",
      "S45 CSP accuracy: 0.875 +/- 0.087\n",
      "S46 CSP accuracy: 0.545 +/- 0.065\n",
      "S47 CSP accuracy: 0.515 +/- 0.081\n",
      "S48 CSP accuracy: 0.580 +/- 0.103\n",
      "S49 CSP accuracy: 0.695 +/- 0.072\n",
      "S50 CSP accuracy: 0.480 +/- 0.071\n",
      "S51 CSP accuracy: 0.375 +/- 0.075\n",
      "S52 CSP accuracy: 0.705 +/- 0.133\n",
      "S53 CSP accuracy: 0.485 +/- 0.087\n",
      "S54 CSP accuracy: 0.500 +/- 0.145\n",
      "Mean accuracy: 0.601 +/- 0.153\n"
     ]
    }
   ],
   "source": [
    "#load data\n",
    "fs = 160\n",
    "path='datasets' #Where the data set is stored\n",
    "dataset = Dataset_Left_Right_MI('Lee2019_MI',fs,fmin=1,fmax=79,tmin=0,tmax=4,path=path)\n",
    "subjects = dataset.subject_list\n",
    "\n",
    "# create pipelines\n",
    "# lda = GridSearchCV(LDA(shrinkage='auto'), {\"solver\": ['eigen','lsqr']}, cv=3, n_jobs=3)\n",
    "lda = LDA(shrinkage='auto', solver='lsqr')\n",
    "csp = make_pipeline(Cov(estimator='cov'), CSP(nfilter=2), lda)\n",
    "\n",
    "# cross-validation\n",
    "kf = StratifiedKFold(n_splits=10, shuffle=True, random_state=42)\n",
    "\n",
    "Acc = []\n",
    "for subject in subjects:\n",
    "    data, y = dataset.get_data([subject])\n",
    "    data = butter_bandpass_filter(data, 5, 32, fs) # filter data\n",
    "    \n",
    "    acc = cross_validate(csp, data, y, cv=kf, scoring='accuracy', n_jobs=10)\n",
    "    Acc.append(acc[\"test_score\"].mean())\n",
    "    print(f'S{subject} CSP accuracy: {acc[\"test_score\"].mean():.3f} +/- {acc[\"test_score\"].std():.3f}')\n",
    "\n",
    "# display results\n",
    "print(f'Mean accuracy: {np.mean(Acc):.3f} +/- {np.std(Acc):.3f}')"
   ]
  }
 ],
 "metadata": {
  "kernelspec": {
   "display_name": "Python 3",
   "language": "python",
   "name": "python3"
  },
  "language_info": {
   "codemirror_mode": {
    "name": "ipython",
    "version": 3
   },
   "file_extension": ".py",
   "mimetype": "text/x-python",
   "name": "python",
   "nbconvert_exporter": "python",
   "pygments_lexer": "ipython3",
   "version": "3.10.11"
  }
 },
 "nbformat": 4,
 "nbformat_minor": 2
}
